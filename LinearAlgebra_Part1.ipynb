{
 "cells": [
  {
   "cell_type": "code",
   "execution_count": 1,
   "id": "f31307cf",
   "metadata": {},
   "outputs": [],
   "source": [
    "import numpy\n",
    "%matplotlib inline\n",
    "from matplotlib import pyplot"
   ]
  },
  {
   "cell_type": "code",
   "execution_count": 25,
   "id": "944be605",
   "metadata": {},
   "outputs": [],
   "source": [
    "from math import ceil\n",
    "from matplotlib import pyplot, ticker, get_backend, rc\n",
    "from mpl_toolkits.mplot3d import Axes3D\n",
    "from itertools import cycle\n",
    "import numpy\n",
    "# interactive backends\n",
    "_int_backends = ['GTK3Agg', 'GTK3Cairo', 'MacOSX', 'nbAgg',\n",
    "                 'Qt4Agg', 'Qt4Cairo', 'Qt5Agg', 'Qt5Cairo',\n",
    "                 'TkAgg', 'TkCairo', 'WebAgg', 'WX', 'WXAgg', 'WXCairo']\n",
    "_backend = get_backend()   # get current backend name\n",
    "\n",
    "# shrink figsize and fontsize when using %matplotlib notebook\n",
    "if _backend in _int_backends:\n",
    "    fontsize = 4\n",
    "    fig_scale = 0.75\n",
    "else:\n",
    "    fontsize = 5\n",
    "    fig_scale = 1\n",
    "\n",
    "grey = '#808080'\n",
    "gold = '#cab18c'   # x-axis grid\n",
    "lightblue = '#0096d6'  # y-axis grid\n",
    "green = '#008367'  # x-axis basis vector\n",
    "red = '#E31937'    # y-axis basis vector\n",
    "darkblue = '#004065'\n",
    "\n",
    "pink, yellow, orange, purple, brown = '#ef7b9d', '#fbd349', '#ffa500', '#a35cff', '#731d1d'\n",
    "\n",
    "quiver_params = {'angles': 'xy',\n",
    "                 'scale_units': 'xy',\n",
    "                 'scale': 1,\n",
    "                 'width': 0.012}\n",
    "\n",
    "grid_params = {'linewidth': 0.5,\n",
    "               'alpha': 0.8}\n",
    "\n",
    "def set_rc(func):\n",
    "    def wrapper(*args, **kwargs):\n",
    "        rc('font', family='serif', size=fontsize)\n",
    "        rc('figure', dpi=200)\n",
    "        rc('axes', axisbelow=True, titlesize=5)\n",
    "        rc('lines', linewidth=1)\n",
    "        func(*args, **kwargs)\n",
    "    return wrapper\n",
    "\n",
    "\n",
    "\n",
    "def plot_vector(vectors, tails=None):\n",
    "    ''' Draw 2d vectors based on the values of the vectors and the position of their tails.\n",
    "    \n",
    "    Parameters\n",
    "    ----------\n",
    "    vectors : list.\n",
    "        List of 2-element array-like structures, each represents a 2d vector.\n",
    "    \n",
    "    tails : list, optional.\n",
    "        List of 2-element array-like structures, each represents the coordinates of the tail\n",
    "        of the corresponding vector in vectors. If None (default), all tails are set at the\n",
    "        origin (0,0). If len(tails) is 1, all tails are set at the same position. Otherwise,\n",
    "        vectors and tails must have the same length.\n",
    "    \n",
    "    Examples\n",
    "    --------\n",
    "    >>> v = [(1, 3), (3, 3), (4, 6)]\n",
    "    >>> plot_vector(v)      # draw 3 vectors with their tails at origin\n",
    "    >>> t = [numpy.array((2, 2))]\n",
    "    >>> plot_vector(v, t)   # draw 3 vectors with their tails at (2,2)\n",
    "    >>> t = [[3, 2], [-1, -2], [3, 5]]\n",
    "    >>> plot_vector(v, t)   # draw 3 vectors with 3 different tails\n",
    "\n",
    "    '''   \n",
    "    vectors = numpy.array(vectors)\n",
    "    assert vectors.shape[1] == 2, \"Each vector should have 2 elements.\"  \n",
    "    if tails is not None:\n",
    "        tails = numpy.array(tails)\n",
    "        assert tails.shape[1] == 2, \"Each tail should have 2 elements.\"\n",
    "    else:\n",
    "        tails = numpy.zeros_like(vectors)\n",
    "    \n",
    "    # tile vectors or tails array if needed\n",
    "    nvectors = vectors.shape[0]\n",
    "    ntails = tails.shape[0]\n",
    "    if nvectors == 1 and ntails > 1:\n",
    "        vectors = numpy.tile(vectors, (ntails, 1))\n",
    "    elif ntails == 1 and nvectors > 1:\n",
    "        tails = numpy.tile(tails, (nvectors, 1))\n",
    "    else:\n",
    "        assert tails.shape == vectors.shape, \"vectors and tail must have a same shape\"\n",
    "\n",
    "    # calculate xlimit & ylimit\n",
    "    heads = tails + vectors\n",
    "    limit = numpy.max(numpy.abs(numpy.hstack((tails, heads))))\n",
    "    limit = numpy.ceil(limit * 1.2)   # add some margins\n",
    "    \n",
    "    figsize = numpy.array([2,2]) * fig_scale\n",
    "    figure, axis = pyplot.subplots(figsize=figsize)\n",
    "    axis.quiver(tails[:,0], tails[:,1], vectors[:,0], vectors[:,1], color=darkblue, \n",
    "                  angles='xy', scale_units='xy', scale=1)\n",
    "    axis.set_xlim([-limit, limit])\n",
    "    axis.set_ylim([-limit, limit])\n",
    "    axis.set_aspect('equal')\n",
    "\n",
    "    # if xticks and yticks of grid do not match, choose the finer one\n",
    "    xticks = axis.get_xticks()\n",
    "    yticks = axis.get_yticks()\n",
    "    dx = xticks[1] - xticks[0]\n",
    "    dy = yticks[1] - yticks[0]\n",
    "    base = max(int(min(dx, dy)), 1)   # grid interval is always an integer\n",
    "    loc = ticker.MultipleLocator(base=base)\n",
    "    axis.xaxis.set_major_locator(loc)\n",
    "    axis.yaxis.set_major_locator(loc)\n",
    "    axis.grid(True, **grid_params)\n",
    "    \n",
    "    # show x-y axis in the center, hide frames\n",
    "    axis.spines['left'].set_position('center')\n",
    "    axis.spines['bottom'].set_position('center')\n",
    "    axis.spines['right'].set_color('none')\n",
    "    axis.spines['top'].set_color('none')\n",
    "\n",
    "\n",
    "def plot_transformation_helper(axis, matrix, *vectors, unit_vector=True, unit_circle=False, title=None):\n",
    "    \"\"\" A helper function to plot the linear transformation defined by a 2x2 matrix.\n",
    "    \n",
    "    Parameters\n",
    "    ----------\n",
    "    axis : class matplotlib.axes.Axes.\n",
    "        The axes to plot on.\n",
    "\n",
    "    matrix : class numpy.ndarray.\n",
    "        The 2x2 matrix to visualize.\n",
    "\n",
    "    *vectors : class numpy.ndarray.\n",
    "        The vector(s) to plot along with the linear transformation. Each array denotes a vector's\n",
    "        coordinates before the transformation and must have a shape of (2,). Accept any number of vectors. \n",
    "    \n",
    "    unit_vector : bool, optional.\n",
    "        Whether to plot unit vectors of the standard basis, default to True.\n",
    "    \n",
    "    unit_circle: bool, optional.\n",
    "        Whether to plot unit circle, default to False.\n",
    "    \n",
    "    title: str, optional.\n",
    "        Title of the plot.\n",
    "\n",
    "    \"\"\"\n",
    "    assert matrix.shape == (2,2), \"the input matrix must have a shape of (2,2)\"\n",
    "    grid_range = 20\n",
    "    x = numpy.arange(-grid_range, grid_range+1)\n",
    "    X_, Y_ = numpy.meshgrid(x,x)\n",
    "    I = matrix[:,0]\n",
    "    J = matrix[:,1]\n",
    "    X = I[0]*X_ + J[0]*Y_\n",
    "    Y = I[1]*X_ + J[1]*Y_\n",
    "    origin = numpy.zeros(1)\n",
    "        \n",
    "    # draw grid lines\n",
    "    for i in range(x.size):\n",
    "        axis.plot(X[i,:], Y[i,:], c=gold, **grid_params)\n",
    "        axis.plot(X[:,i], Y[:,i], c=lightblue, **grid_params)\n",
    "    \n",
    "    # draw (transformed) unit vectors\n",
    "    if unit_vector:\n",
    "        axis.quiver(origin, origin, [I[0]], [I[1]], color=green, **quiver_params)\n",
    "        axis.quiver(origin, origin, [J[0]], [J[1]], color=red, **quiver_params)\n",
    "\n",
    "    # draw optional vectors\n",
    "    color_cycle = cycle([pink, darkblue, orange, purple, brown])\n",
    "    if vectors:\n",
    "        for vector in vectors:\n",
    "            color = next(color_cycle)\n",
    "            vector_ = matrix @ vector.reshape(-1,1)\n",
    "            axis.quiver(origin, origin, [vector_[0]], [vector_[1]], color=color, **quiver_params)\n",
    "\n",
    "    # draw optional unit circle\n",
    "    if unit_circle:\n",
    "        alpha =  numpy.linspace(0, 2*numpy.pi, 41)\n",
    "        circle = numpy.vstack((numpy.cos(alpha), numpy.sin(alpha)))\n",
    "        circle_trans = matrix @ circle\n",
    "        axis.plot(circle_trans[0], circle_trans[1], color=red, lw=0.8)\n",
    "\n",
    "    # hide frames, set xlimit & ylimit, set title\n",
    "    limit = 4\n",
    "    axis.spines['left'].set_position('center')\n",
    "    axis.spines['bottom'].set_position('center')\n",
    "    axis.spines['left'].set_linewidth(0.3)\n",
    "    axis.spines['bottom'].set_linewidth(0.3)\n",
    "    axis.spines['right'].set_color('none')\n",
    "    axis.spines['top'].set_color('none')\n",
    "    axis.set_xlim([-limit, limit])\n",
    "    axis.set_ylim([-limit, limit])\n",
    "    if title is not None:\n",
    "        axis.set_title(title)\n",
    "\n",
    "\n",
    "def plot_linear_transformation(matrix, *vectors, unit_vector=True, unit_circle=False):\n",
    "    \"\"\" Plot the linear transformation defined by a 2x2 matrix using the helper\n",
    "    function plot_transformation_helper(). It will create 2 subplots to visualize some\n",
    "    vectors before and after the transformation.\n",
    "    \n",
    "    Parameters\n",
    "    ----------\n",
    "    matrix : class numpy.ndarray.\n",
    "        The 2x2 matrix to visualize.\n",
    "\n",
    "    *vectors : class numpy.ndarray.\n",
    "        The vector(s) to plot along with the linear transformation. Each array denotes a vector's\n",
    "        coordinates before the transformation and must have a shape of (2,). Accept any number of vectors.\n",
    "    \n",
    "    unit_vector : bool, optional.\n",
    "        Whether to plot unit vectors of the standard basis, default to True.\n",
    "    \n",
    "    unit_circle: bool, optional.\n",
    "        Whether to plot unit circle, default to False.\n",
    "    \n",
    "    \"\"\"\n",
    "    figsize = numpy.array([4,2]) * fig_scale\n",
    "    figure, (axis1, axis2) = pyplot.subplots(1, 2, figsize=figsize)\n",
    "    plot_transformation_helper(axis1, numpy.identity(2), *vectors, unit_vector=unit_vector, unit_circle=unit_circle, title='Before transformation')\n",
    "    plot_transformation_helper(axis2, matrix, *vectors, unit_vector=unit_vector, unit_circle=unit_circle, title='After transformation')\n",
    "\n",
    "\n",
    "def plot_linear_transformations(*matrices, unit_vector=True, unit_circle=False):\n",
    "    \"\"\" Plot the linear transformation defined by a sequence of n 2x2 matrices using the helper\n",
    "    function plot_transformation_helper(). It will create n+1 subplots to visualize some\n",
    "    vectors before and after each transformation.\n",
    "\n",
    "    Parameters\n",
    "    ----------\n",
    "    *matrices : class numpy.ndarray.\n",
    "        The 2x2 matrices to visualize. Accept any number of matrices.\n",
    "    \n",
    "    unit_vector : bool, optional.\n",
    "        Whether to plot unit vectors of the standard basis, default to True.\n",
    "    \n",
    "    unit_circle: bool, optional.\n",
    "        Whether to plot unit circle, default to False.\n",
    "      \n",
    "    \"\"\"\n",
    "    nplots = len(matrices) + 1\n",
    "    nx = 2\n",
    "    ny = ceil(nplots/nx)\n",
    "    figsize = numpy.array([2*nx, 2*ny]) * fig_scale\n",
    "    figure, axes = pyplot.subplots(nx, ny, figsize=figsize)\n",
    "\n",
    "    for i in range(nplots):  # fig_idx \n",
    "        if i == 0:\n",
    "            matrix_trans = numpy.identity(2)\n",
    "            title = 'Before transformation'\n",
    "        else:\n",
    "            matrix_trans = matrices[i-1] @ matrix_trans\n",
    "            if i == 1:\n",
    "                title = 'After {} transformation'.format(i)\n",
    "            else:\n",
    "                title = 'After {} transformations'.format(i)\n",
    "        plot_transformation_helper(axes[i//nx, i%nx], matrix_trans, unit_vector=unit_vector, unit_circle=unit_circle, title=title)\n",
    "    # hide axes of the extra subplot (only when nplots is an odd number)\n",
    "    if nx*ny > nplots:\n",
    "        axes[-1,-1].axis('off')\n",
    "        \n",
    "\n",
    "def plot_3d_transformation_helper(axis, matrix, grid=True, unit_sphere=False, title=None):\n",
    "    \"\"\" A helper function to plot the linear transformation defined by a 3x3 matrix.\n",
    "    \n",
    "    Parameters\n",
    "    ----------\n",
    "    axis : class matplotlib.axes.Axes.\n",
    "        The axes to plot on.\n",
    "\n",
    "    matrix : class numpy.ndarray.\n",
    "        The 3x3 matrix to visualize.\n",
    "\n",
    "    grid : bool, optional.\n",
    "        Whether to plot 3d grid lines, default to True.\n",
    "    \n",
    "    unit_sphere : bool, optional.\n",
    "        Whether to plot unit sphere, default to False.\n",
    "    \n",
    "    title : str, optional.\n",
    "        Title of the plot.\n",
    "\n",
    "    \"\"\"\n",
    "    assert matrix.shape == (3,3), \"the input matrix must have a shape of (3,3)\"\n",
    "    xcolor, ycolor, zcolor = '#0084b6', '#d8a322', '#FF3333'\n",
    "    linewidth = 0.7\n",
    "    if grid:\n",
    "        grid_range = 2\n",
    "        x = numpy.arange(-grid_range, grid_range+1)\n",
    "        X, Y, Z = numpy.meshgrid(x,x,x)\n",
    "        X_new = matrix[0,0]*X + matrix[0,1]*Y + matrix[0,2]*Z\n",
    "        Y_new = matrix[1,0]*X + matrix[1,1]*Y + matrix[1,2]*Z\n",
    "        Z_new = matrix[2,0]*X + matrix[2,1]*Y + matrix[2,2]*Z\n",
    "        for i in range(x.size):\n",
    "            for j in range(x.size):\n",
    "                axis.plot(X_new[:,i,j], Y_new[:,i,j], Z_new[:,i,j], color=xcolor, linewidth=linewidth)\n",
    "                axis.plot(X_new[i,:,j], Y_new[i,:,j], Z_new[i,:,j], color=ycolor, linewidth=linewidth)\n",
    "                axis.plot(X_new[i,j,:], Y_new[i,j,:], Z_new[i,j,:], color=zcolor, linewidth=linewidth)\n",
    "    \n",
    "    if unit_sphere:\n",
    "        u = numpy.linspace(0, 2 * numpy.pi, 100)\n",
    "        v = numpy.linspace(0, numpy.pi, 100)\n",
    "        X = 1 * numpy.outer(numpy.cos(u), numpy.sin(v))\n",
    "        Y = 1 * numpy.outer(numpy.sin(u), numpy.sin(v))\n",
    "        Z = 1 * numpy.outer(numpy.ones(numpy.size(u)), numpy.cos(v))\n",
    "        X_new = matrix[0,0]*X + matrix[0,1]*Y + matrix[0,2]*Z\n",
    "        Y_new = matrix[1,0]*X + matrix[1,1]*Y + matrix[1,2]*Z\n",
    "        Z_new = matrix[2,0]*X + matrix[2,1]*Y + matrix[2,2]*Z\n",
    "        axis.plot_surface(X_new, Y_new, Z_new, rstride=4, cstride=4, linewidth=0, cmap='ocean', alpha=0.6)\n",
    "\n",
    "    if title is not None:\n",
    "        axis.set_title(title)\n",
    "    \n",
    "    limit = 0\n",
    "    if grid or unit_sphere:\n",
    "        for array in (X_new, Y_new, Z_new):\n",
    "            limit_ = numpy.max(numpy.abs(array))\n",
    "            limit = max(limit, limit_)\n",
    "    else:\n",
    "        limit = 1\n",
    "    axis.set_xlim(-limit, limit)\n",
    "    axis.set_ylim(-limit, limit)\n",
    "    axis.set_zlim(-limit, limit)\n",
    "    # adjust the whitespace between ticks and axes to get a tighter plot\n",
    "    for axis_str in ['x', 'y', 'z']:\n",
    "        axis.tick_params(axis=axis_str, pad=-3)\n",
    "\n",
    "\n",
    "def plot_3d_linear_transformation(matrix, grid=True, unit_sphere=False):\n",
    "    \"\"\" Plot the linear transformation defined by a 3x3 matrix using the helper\n",
    "    function plot_3d_transformation_helper(). It will create 2 subplots to visualize some\n",
    "    vectors before and after the transformation.\n",
    "    \n",
    "    Parameters\n",
    "    ----------\n",
    "    matrix : class numpy.ndarray.\n",
    "        The 3x3 matrix to visualize.\n",
    "\n",
    "    grid : bool, optional.\n",
    "        Whether to plot 3d grid lines, default to True.\n",
    "    \n",
    "    unit_sphere : bool, optional.\n",
    "        Whether to plot unit sphere, default to False.\n",
    "\n",
    "    \"\"\"\n",
    "    \n",
    "    figsize = numpy.array([4,2]) * fig_scale\n",
    "    figure = pyplot.figure(figsize=figsize)\n",
    "    axis1 = figure.add_subplot(1, 2, 1, projection='3d')\n",
    "    axis2 = figure.add_subplot(1, 2, 2, projection='3d')\n",
    "    plot_3d_transformation_helper(axis1, numpy.identity(3), grid=grid, unit_sphere=unit_sphere, title='before transformation')\n",
    "    plot_3d_transformation_helper(axis2, matrix, grid=grid, unit_sphere=unit_sphere, title='after transformation')\n",
    "\n",
    "\n",
    "def plot_3d_linear_transformations(*matrices, grid=False, unit_sphere=False):\n",
    "    \"\"\" Plot the linear transformation defined by a sequence of n 3x3 matrices using the helper\n",
    "    function plot_3d_transformation_helper(). It will create n+1 subplots to visualize some\n",
    "    vectors before and after each transformation.\n",
    "    \n",
    "    Parameters\n",
    "    ----------\n",
    "    *matrices : class numpy.ndarray.\n",
    "        The 3x3 matrices to visualize. Accept any number of matrices. \n",
    "\n",
    "    grid : bool, optional.\n",
    "        Whether to plot 3d grid lines, default to False.\n",
    "    \n",
    "    unit_sphere : bool, optional.\n",
    "        Whether to plot unit sphere, default to False.\n",
    "\n",
    "    \"\"\"\n",
    "    nplots = len(matrices) + 1\n",
    "    nx = 2                 # number of figures per row\n",
    "    ny = ceil(nplots/nx)   # number of figures per column\n",
    "    figsize = numpy.array([2*nx, 2*ny]) * fig_scale\n",
    "    figure = pyplot.figure(figsize=figsize)\n",
    "\n",
    "    for i in range(nplots):  # fig_idx\n",
    "        axis = figure.add_subplot(ny, nx, i+1, projection='3d')\n",
    "        if i == 0:\n",
    "            matrix_trans = numpy.identity(3)\n",
    "            title = 'Before transformation'\n",
    "        else:\n",
    "            matrix_trans = matrices[i-1] @ matrix_trans\n",
    "            if i == 1:\n",
    "                title = 'After {} transformation'.format(i)\n",
    "            else:\n",
    "                title = 'After {} transformations'.format(i)\n",
    "        plot_3d_transformation_helper(axis, matrix_trans, grid=grid, unit_sphere=unit_sphere, title=title)\n",
    "\n",
    "\n",
    "def plot_basis_helper(axis, I, J, *vectors, title=None, I_label='i', J_label='j'):\n",
    "    \"\"\" A helper function to plot the 2D coordinate system determined by the basis I,J.\n",
    "    \n",
    "    Parameters\n",
    "    ----------\n",
    "    axis : class matplotlib.axes.Axes.\n",
    "        The axes to plot on.\n",
    "\n",
    "    I, J: class numpy.ndarray.\n",
    "        The coordinates of the basis vector in the standard basis.\n",
    "\n",
    "    *vectors : class numpy.ndarray.\n",
    "        The vector(s) to plot along with the change of basis. Each array denotes a vector's\n",
    "        coordinates in I-J coordinate system (not in the standard basis). Each vector must have\n",
    "        a shape of (2,). Accept any number of vectors.\n",
    "    \n",
    "    I_label, J_label : str, optional.\n",
    "        Label of the new basis, default to 'i' and 'j'.\n",
    "    \n",
    "    title: str, optional.\n",
    "        Title of the plot.\n",
    "\n",
    "    \"\"\"\n",
    "    grid_range = 20\n",
    "    x = numpy.arange(-grid_range, grid_range+1)\n",
    "    X_, Y_ = numpy.meshgrid(x,x)   # grid coordinates on the new basis\n",
    "    X = I[0]*X_ + J[0]*Y_   # grid coordinates on the standard basis\n",
    "    Y = I[1]*X_ + J[1]*Y_\n",
    "    \n",
    "    # draw origin\n",
    "    origin = numpy.zeros(1)\n",
    "    axis.scatter(origin, origin, c='black', s=3)\n",
    "\n",
    "    # draw grid lines of the new coordinate system\n",
    "    lw_grid = 0.4\n",
    "    for i in range(x.size):\n",
    "        axis.plot(X[i,:], Y[i,:], c=grey, lw=lw_grid)\n",
    "        axis.plot(X[:,i], Y[:,i], c=grey, lw=lw_grid)\n",
    "    \n",
    "    # highlight new axes (spines)\n",
    "    lw_spine = 0.7\n",
    "    zero_id = numpy.where(x==0)[0][0]\n",
    "    axis.plot(X[zero_id,:], Y[zero_id,:], c=gold, lw=lw_spine)\n",
    "    axis.plot(X[:,zero_id], Y[:,zero_id], c=lightblue, lw=lw_spine)\n",
    "\n",
    "    # draw basis vectors using quiver plot\n",
    "    axis.quiver(origin, origin, [I[0]], [I[1]], color=gold, **quiver_params)\n",
    "    axis.quiver(origin, origin, [J[0]], [J[1]], color=lightblue, **quiver_params)\n",
    "\n",
    "    # draw input vector on new coordinate system\n",
    "    bound = 5\n",
    "    if vectors:\n",
    "        for vector in vectors:\n",
    "            M = numpy.transpose(numpy.vstack((I,J)))\n",
    "            vector = M @ vector.reshape(-1,1)\n",
    "            axis.quiver(origin, origin, [vector[0]], [vector[1]], color=red, **quiver_params)\n",
    "            bound = max(ceil(numpy.max(numpy.abs(vector))), bound)\n",
    "    \n",
    "    # hide frames, set xlimit & ylimit, set title\n",
    "    axis.set_xlim([-bound, bound])\n",
    "    axis.set_ylim([-bound, bound])\n",
    "    axis.axis('off')\n",
    "    if title is not None:\n",
    "        axis.set_title(title)\n",
    "\n",
    "    # add text next to new basis vectors\n",
    "    text_params = {'ha': 'center', 'va': 'center', 'size' : 6}\n",
    "    axis.text((I[0]-J[0])/2*1.1, (I[1]-J[1])/2*1.1, r'${}$'.format(I_label), color=gold, **text_params)\n",
    "    axis.text((J[0]-I[0])/2*1.1, (J[1]-I[1])/2*1.1, r'${}$'.format(J_label), color=lightblue, **text_params)\n",
    "\n",
    "\n",
    "def plot_basis(I, J, *vectors):\n",
    "    \"\"\" Plot 2d vectors on the coordinates system defined by basis I and J using the helper funtion\n",
    "    plot_basis_helper().\n",
    "    \n",
    "    Parameters\n",
    "    ----------\n",
    "    I, J: class numpy.ndarray.\n",
    "        The coordinates of the basis vector in the standard basis.\n",
    "\n",
    "    *vectors : class numpy.ndarray.\n",
    "        The vector(s) to plot along with the change of basis. Each array denotes a vector's\n",
    "        coordinates in I-J coordinate system (not in the standard basis). Each vector must have\n",
    "        a shape of (2,). Accept any number of vectors.\n",
    "\n",
    "    \"\"\"\n",
    "    figsize = numpy.array([2,2]) * fig_scale\n",
    "    figure, axis = pyplot.subplots(figsize=figsize)\n",
    "    plot_basis_helper(axis, I, J, *vectors)\n",
    "\n",
    "\n",
    "def plot_change_basis(I, J, *vectors):\n",
    "    \"\"\" Create a side-by-side plot of some vectors both on the standard basis and on the new basis\n",
    "    defined by I and J, using the helper function plot_basis_helper().\n",
    "    \n",
    "    Parameters\n",
    "    ----------\n",
    "    I, J: class numpy.ndarray.\n",
    "        The coordinates of the basis vector in the standard basis.\n",
    "\n",
    "    *vectors : class numpy.ndarray.\n",
    "        The vector(s) to plot along with the change of basis. Each array denotes a vector's\n",
    "        coordinates in I-J coordinate system (not in the standard basis). Each vector must have\n",
    "        a shape of (2,). Accept any number of vectors.\n",
    "\n",
    "    \"\"\"\n",
    "    figsize = numpy.array([4,2]) * fig_scale\n",
    "    figure, (axis1, axis2) = pyplot.subplots(1, 2, figsize=figsize)\n",
    "    M = numpy.transpose(numpy.vstack((I,J)))\n",
    "    M_inv = inv(M)\n",
    "    vectors_ = [ M_inv @ vector.reshape(-1, 1) for vector in vectors ]\n",
    "    plot_basis_helper(axis1, numpy.array([1,0]), numpy.array([0,1]), *vectors, title='standard basis')\n",
    "    plot_basis_helper(axis2, I, J, *vectors_, title='new basis', I_label='a', J_label='b')\n",
    "\n",
    "\n",
    "def plot_eigen(matrix):\n",
    "    \"\"\" Visualize the eigendecomposition of a 2x2 matrix as a combination of changing basis \n",
    "    and scaling transformation, using the helper function plot_basis_helper().\n",
    "\n",
    "    Parameters\n",
    "    ----------\n",
    "    matrix : class numpy.ndarray.\n",
    "        The 2x2 matrix to visualize.\n",
    "\n",
    "    \"\"\"\n",
    "    figsize = numpy.array([4,4]) * fig_scale\n",
    "    figure, axes = pyplot.subplots(2, 2, figsize=figsize)\n",
    "    \n",
    "    eigenvalues, eigenvectors = eig(matrix)\n",
    "    C = eigenvectors\n",
    "    D = numpy.diag(eigenvalues)\n",
    "    C_inv = inv(C)\n",
    "\n",
    "    alpha =  numpy.linspace(0, 2*numpy.pi, 41)\n",
    "    circle = numpy.vstack((numpy.cos(alpha), numpy.sin(alpha)))\n",
    "\n",
    "    plot_basis_helper(axes[0,0], numpy.array([1,0]), numpy.array([0,1]), title=r'coords in standard basis $\\mathbf{x}$')\n",
    "    plot_basis_helper(axes[0,1], C[:,0], C[:,1], title=r'change to new basis $C^{-1}\\mathbf{x}$', I_label='a', J_label='b')\n",
    "    plot_basis_helper(axes[1,0], C[:,0], C[:,1], title=r'scale along new basis $DC^{-1}\\mathbf{x}$', I_label='a', J_label='b')\n",
    "    plot_basis_helper(axes[1,1], numpy.array([1,0]), numpy.array([0,1]), title=r'change back to standard basis $CDC^{-1}\\mathbf{x}$')\n",
    "\n",
    "    circle_trans = matrix @ circle\n",
    "    for axis in axes[0]:\n",
    "        axis.plot(circle[0], circle[1], color=red, lw=0.8)\n",
    "    for axis in axes[1]:\n",
    "        axis.plot(circle_trans[0], circle_trans[1], color=red, lw=0.8)\n",
    "\n",
    "if __name__ == \"__main__\":\n",
    "    pass"
   ]
  },
  {
   "cell_type": "markdown",
   "id": "5e46a7e1",
   "metadata": {},
   "source": [
    "## Vectors: Introduction"
   ]
  },
  {
   "cell_type": "code",
   "execution_count": 26,
   "id": "335a234d",
   "metadata": {},
   "outputs": [
    {
     "data": {
      "image/png": "[encoded data removed]",
      "text/plain": [
       "<Figure size 200x200 with 1 Axes>"
      ]
     },
     "metadata": {},
     "output_type": "display_data"
    }
   ],
   "source": [
    "vectors = [(2,2)]\n",
    "tails = [(-3,-2), (-3,1), (0,0), (1,-3)]\n",
    "plot_vector(vectors, tails)\n",
    "pyplot.title(\"The same vector, with its tail at four locations.\");"
   ]
  },
  {
   "cell_type": "code",
   "execution_count": 27,
   "id": "a81d6479",
   "metadata": {},
   "outputs": [
    {
     "data": {
      "image/png": "[encoded data removed]",
      "text/plain": [
       "<Figure size 200x200 with 1 Axes>"
      ]
     },
     "metadata": {},
     "output_type": "display_data"
    }
   ],
   "source": [
    "v_new = [(-1,7)]\n",
    "t_new = [(-5,-5), (0,5), (0,0)]\n",
    "plot_vector(v_new, t_new)"
   ]
  },
  {
   "cell_type": "markdown",
   "id": "927991e4",
   "metadata": {},
   "source": [
    "### Vector Addition"
   ]
  },
  {
   "cell_type": "code",
   "execution_count": 5,
   "id": "3226b0df",
   "metadata": {},
   "outputs": [
    {
     "data": {
      "image/png": "[encoded data removed]",
      "text/plain": [
       "<Figure size 200x200 with 1 Axes>"
      ]
     },
     "metadata": {},
     "output_type": "display_data"
    }
   ],
   "source": [
    "v1 = numpy.array((-4,3))\n",
    "v2 = numpy.array((6,4))\n",
    "v_sum = v1+v2\n",
    "origin = numpy.array((0,0))\n",
    "vectors=[v1, v2, v_sum]\n",
    "tails = [origin, v1, origin]\n",
    "plot_vector(vectors, tails)"
   ]
  },
  {
   "cell_type": "markdown",
   "id": "dc386c6b",
   "metadata": {},
   "source": [
    "### Scaling of vector"
   ]
  },
  {
   "cell_type": "code",
   "execution_count": 6,
   "id": "ae8aead1",
   "metadata": {},
   "outputs": [
    {
     "data": {
      "image/png": "[encoded data removed]",
      "text/plain": [
       "<Figure size 200x200 with 1 Axes>"
      ]
     },
     "metadata": {},
     "output_type": "display_data"
    }
   ],
   "source": [
    "v = numpy.array((3,5))\n",
    "scaled_v = 4*v\n",
    "vectors=[scaled_v, v]\n",
    "plot_vector(vectors)"
   ]
  },
  {
   "cell_type": "code",
   "execution_count": 7,
   "id": "22d98701",
   "metadata": {},
   "outputs": [
    {
     "data": {
      "image/png": "[encoded data removed]",
      "text/plain": [
       "<Figure size 200x200 with 1 Axes>"
      ]
     },
     "metadata": {},
     "output_type": "display_data"
    }
   ],
   "source": [
    "# multiplying by negative scalar\n",
    "v = numpy.array((3,5))\n",
    "scaled_v = -4*v\n",
    "vectors=[scaled_v, v]\n",
    "plot_vector(vectors)"
   ]
  },
  {
   "cell_type": "markdown",
   "id": "31aaa74e",
   "metadata": {},
   "source": [
    "### Basis Vectors"
   ]
  },
  {
   "cell_type": "code",
   "execution_count": 8,
   "id": "b40599f3",
   "metadata": {},
   "outputs": [
    {
     "data": {
      "image/png": "[encoded data removed]",
      "text/plain": [
       "<Figure size 200x200 with 1 Axes>"
      ]
     },
     "metadata": {},
     "output_type": "display_data"
    }
   ],
   "source": [
    "i = numpy.array((1,0))\n",
    "j = numpy.array((0,1))\n",
    "vec_1 = (-3)*i + 7*(j)\n",
    "vectors=[i,j, (-3)*i, 7*j, vec_1]\n",
    "plot_vector(vectors)"
   ]
  },
  {
   "cell_type": "markdown",
   "id": "0039fab3",
   "metadata": {},
   "source": [
    "**Comment:** multiplied by scalar and then adding two vectors is called linear combination of those two vectors,and the set of all linear combinations is **Span** now any vector in the 2-D can be expressed as a linear combination of i & j, in that case {i, j} is a basis of $R^2$."
   ]
  },
  {
   "cell_type": "code",
   "execution_count": 24,
   "id": "30e05866",
   "metadata": {},
   "outputs": [
    {
     "data": {
      "image/png": "[encoded data removed]",
      "text/plain": [
       "<Figure size 200x200 with 1 Axes>"
      ]
     },
     "metadata": {},
     "output_type": "display_data"
    }
   ],
   "source": [
    "from numpy.random import randint\n",
    "v_s = []\n",
    "for _ in range(20):\n",
    "    m = randint(-20, 20)\n",
    "    n = randint(-8,8)\n",
    "    v_s.append(m*i+n*j)\n",
    "plot_vector(v_s)"
   ]
  },
  {
   "cell_type": "code",
   "execution_count": 10,
   "id": "79d87f51",
   "metadata": {},
   "outputs": [
    {
     "data": {
      "image/png": "[encoded data removed]",
      "text/plain": [
       "<Figure size 200x200 with 1 Axes>"
      ]
     },
     "metadata": {},
     "output_type": "display_data"
    }
   ],
   "source": [
    "from numpy.random import randint\n",
    "v_s = []\n",
    "for _ in range(20):\n",
    "    m = randint(-10, 10)\n",
    "    n = randint(-8,8)\n",
    "    v_s.append(m*numpy.array((1,2))+n*numpy.array((-1,1)))\n",
    "plot_vector(v_s)"
   ]
  },
  {
   "cell_type": "markdown",
   "id": "ee940cab",
   "metadata": {},
   "source": [
    "**Comment:** You can notice that instead of using i & j I am using another two set of vectors (1,-3) & (-1,1). Which indicates the possibility of having another basis except {i,j}"
   ]
  },
  {
   "cell_type": "code",
   "execution_count": 11,
   "id": "9306f589",
   "metadata": {},
   "outputs": [
    {
     "data": {
      "image/png": "[encoded data removed]",
      "text/plain": [
       "<Figure size 200x200 with 1 Axes>"
      ]
     },
     "metadata": {},
     "output_type": "display_data"
    }
   ],
   "source": [
    "from numpy.random import randint\n",
    "v_s = []\n",
    "for _ in range(20):\n",
    "    m = randint(-10, 10)\n",
    "    n = randint(-8,8)\n",
    "    v_s.append(m*numpy.array((1,2))+n*numpy.array((0.5,1)))\n",
    "plot_vector(v_s)"
   ]
  },
  {
   "cell_type": "markdown",
   "id": "37f5bbae",
   "metadata": {},
   "source": [
    "**Comment:** Does this picture look like it will cover all the plane? \n",
    "- It is a bit different than the previous two. Isn't it? \n",
    "- If you are asked to travel all over the $R^2$, can you do using the set of two vectors given in the previous cell??  \n",
    "_The answer is **NO**, you can only travel along the line_"
   ]
  },
  {
   "cell_type": "markdown",
   "id": "00c4678f",
   "metadata": {},
   "source": [
    "## Matrices: Introduction"
   ]
  },
  {
   "cell_type": "code",
   "execution_count": 12,
   "id": "9d753c4a",
   "metadata": {},
   "outputs": [
    {
     "name": "stdout",
     "output_type": "stream",
     "text": [
      "[[-1  2]\n",
      " [ 1  1]]\n"
     ]
    }
   ],
   "source": [
    "A = numpy.array([[-1,2], [1,1]])\n",
    "print(A)"
   ]
  },
  {
   "cell_type": "code",
   "execution_count": 13,
   "id": "f98f775e",
   "metadata": {},
   "outputs": [
    {
     "data": {
      "text/plain": [
       "array([-1,  1])"
      ]
     },
     "execution_count": 13,
     "metadata": {},
     "output_type": "execute_result"
    }
   ],
   "source": [
    "A.dot(i)"
   ]
  },
  {
   "cell_type": "code",
   "execution_count": 14,
   "id": "7bcf172b",
   "metadata": {},
   "outputs": [
    {
     "data": {
      "text/plain": [
       "array([2, 1])"
      ]
     },
     "execution_count": 14,
     "metadata": {},
     "output_type": "execute_result"
    }
   ],
   "source": [
    "A.dot(j)"
   ]
  },
  {
   "cell_type": "code",
   "execution_count": 15,
   "id": "ed462816",
   "metadata": {},
   "outputs": [
    {
     "data": {
      "image/png": "[encoded data removed]",
      "text/plain": [
       "<Figure size 400x200 with 2 Axes>"
      ]
     },
     "metadata": {},
     "output_type": "display_data"
    }
   ],
   "source": [
    "plot_linear_transformation(A)"
   ]
  },
  {
   "cell_type": "markdown",
   "id": "bb453f82",
   "metadata": {},
   "source": [
    "**Comment:** The figure at the left shows the basis of $R^2$ is $B_1 = \\{e_1, e_2\\}$, the figure at the right shows that the basis of $R^2$ is $B_2 = \\{(-1,1), (2,1)\\}$. Where (-1,1) = $b_1$ and (2,1) = $b_2$. Now \n",
    "$\\begin{align}\n",
    "B_2 = \\begin{pmatrix}\n",
    "-1 & 2 \\\\\n",
    "1 & 1 \n",
    "\\end{pmatrix}.\n",
    "\\end{align}$ \n",
    "and if we multiply $B_2$ by \n",
    "$\\begin{align}\n",
    "X = \\begin{pmatrix}\n",
    "2 \\\\\n",
    "1 \n",
    "\\end{pmatrix}.\n",
    "\\end{align}$ \n",
    "Then the $B_2.X$ will be the column vector $X^1$ = (0,3) of $R^2$ according to the basis $B_1$, and the vector X would be the vector of $R_2$ according to the basis of $B_2$. Hence we say that the X is transformed into vector $X^1$ by the matrix $B_2$ (which was earlier mentioned by matrix A)\n",
    "\n",
    "_key idea:_ The matrix A represents the **linear transformation**"
   ]
  },
  {
   "cell_type": "code",
   "execution_count": 16,
   "id": "ef528a91",
   "metadata": {},
   "outputs": [
    {
     "data": {
      "image/png": "[encoded data removed]",
      "text/plain": [
       "<Figure size 200x200 with 1 Axes>"
      ]
     },
     "metadata": {},
     "output_type": "display_data"
    }
   ],
   "source": [
    "# let's plot the transformed vector \n",
    "X = numpy.array([2,1])\n",
    "vectors = [X,A.dot(X)]\n",
    "plot_vector(vectors)"
   ]
  },
  {
   "cell_type": "markdown",
   "id": "c05c797b",
   "metadata": {},
   "source": [
    "**Key Idea:** The matrix-vector multiplication Ax is a linear combination of the columns of A scaled by the components of x\n"
   ]
  },
  {
   "cell_type": "markdown",
   "id": "b240f87f",
   "metadata": {},
   "source": [
    "### Few Special Transformation"
   ]
  },
  {
   "cell_type": "markdown",
   "id": "d17f1c7f",
   "metadata": {},
   "source": [
    "#### 1.Rotation"
   ]
  },
  {
   "cell_type": "code",
   "execution_count": 17,
   "id": "fa92af4c",
   "metadata": {},
   "outputs": [
    {
     "name": "stdout",
     "output_type": "stream",
     "text": [
      "[[ 0 -1]\n",
      " [ 1  0]]\n"
     ]
    }
   ],
   "source": [
    "rotation = numpy.array([[0, -1],[1,0]]) # counterclock wise rotation\n",
    "print(rotation)"
   ]
  },
  {
   "cell_type": "code",
   "execution_count": 18,
   "id": "e0c5a398",
   "metadata": {},
   "outputs": [
    {
     "data": {
      "image/png": "[encoded data removed]",
      "text/plain": [
       "<Figure size 400x200 with 2 Axes>"
      ]
     },
     "metadata": {},
     "output_type": "display_data"
    }
   ],
   "source": [
    "plot_linear_transformation(rotation)"
   ]
  },
  {
   "cell_type": "markdown",
   "id": "82ea92aa",
   "metadata": {},
   "source": [
    "#### 2.Shear Transformation"
   ]
  },
  {
   "cell_type": "code",
   "execution_count": 19,
   "id": "5e869156",
   "metadata": {},
   "outputs": [
    {
     "name": "stdout",
     "output_type": "stream",
     "text": [
      "[[1 1]\n",
      " [0 1]]\n"
     ]
    },
    {
     "data": {
      "image/png": "[encoded data removed]",
      "text/plain": [
       "<Figure size 400x200 with 2 Axes>"
      ]
     },
     "metadata": {},
     "output_type": "display_data"
    }
   ],
   "source": [
    "shear = numpy.array([[1,1], [0,1]])\n",
    "print(shear)\n",
    "plot_linear_transformation(shear)"
   ]
  },
  {
   "cell_type": "markdown",
   "id": "4c9e83e6",
   "metadata": {},
   "source": [
    "#### 3.scaling transformation"
   ]
  },
  {
   "cell_type": "code",
   "execution_count": 20,
   "id": "9307f1ad",
   "metadata": {},
   "outputs": [
    {
     "data": {
      "image/png": "[encoded data removed]",
      "text/plain": [
       "<Figure size 400x200 with 2 Axes>"
      ]
     },
     "metadata": {},
     "output_type": "display_data"
    }
   ],
   "source": [
    "scaling = numpy.array([[2,0], [0,0.5]])\n",
    "plot_linear_transformation(scaling)"
   ]
  },
  {
   "cell_type": "markdown",
   "id": "3441ab8b",
   "metadata": {},
   "source": [
    "### Matrix Matrix multiplication"
   ]
  },
  {
   "cell_type": "code",
   "execution_count": 21,
   "id": "a1c85e07",
   "metadata": {},
   "outputs": [
    {
     "data": {
      "text/plain": [
       "array([[ 1, -1],\n",
       "       [ 1,  0]])"
      ]
     },
     "execution_count": 21,
     "metadata": {},
     "output_type": "execute_result"
    }
   ],
   "source": [
    "shear@rotation"
   ]
  },
  {
   "cell_type": "code",
   "execution_count": 22,
   "id": "c2e0bfa7",
   "metadata": {},
   "outputs": [
    {
     "data": {
      "text/plain": [
       "array([[1, 1],\n",
       "       [0, 1]])"
      ]
     },
     "execution_count": 22,
     "metadata": {},
     "output_type": "execute_result"
    }
   ],
   "source": [
    "shear"
   ]
  },
  {
   "cell_type": "code",
   "execution_count": 23,
   "id": "58ff8f3c",
   "metadata": {},
   "outputs": [
    {
     "data": {
      "image/png": "[encoded data removed]",
      "text/plain": [
       "<Figure size 400x200 with 2 Axes>"
      ]
     },
     "metadata": {},
     "output_type": "display_data"
    }
   ],
   "source": [
    "plot_linear_transformation(shear@rotation)"
   ]
  },
  {
   "cell_type": "markdown",
   "id": "fcfd9654",
   "metadata": {},
   "source": [
    "**Comment:** Matrix, Matrix multiplication corresponds to two multiplication in sequence"
   ]
  },
  {
   "cell_type": "code",
   "execution_count": 33,
   "id": "5fb93812",
   "metadata": {},
   "outputs": [
    {
     "name": "stdout",
     "output_type": "stream",
     "text": [
      "[-4 -1]\n"
     ]
    },
    {
     "data": {
      "image/png": "[encoded data removed]",
      "text/plain": [
       "<Figure size 200x200 with 1 Axes>"
      ]
     },
     "metadata": {},
     "output_type": "display_data"
    }
   ],
   "source": [
    "# now I will create a vector and on that vector I am going to apply rotation and then shear transformation\n",
    "x = numpy.array([-1,3])\n",
    "rotation_x = rotation.dot(x)\n",
    "shear_rotation_x = shear.dot(x_rotation)\n",
    "print(shear_rotation_x)\n",
    "vectors = [shear_rotation_x]\n",
    "# let's plot the resultant vector after two transformation\n",
    "plot_vector(vectors)"
   ]
  },
  {
   "cell_type": "code",
   "execution_count": 34,
   "id": "964331ba",
   "metadata": {},
   "outputs": [
    {
     "name": "stdout",
     "output_type": "stream",
     "text": [
      "[-4 -1]\n"
     ]
    },
    {
     "data": {
      "image/png": "[encoded data removed]",
      "text/plain": [
       "<Figure size 200x200 with 1 Axes>"
      ]
     },
     "metadata": {},
     "output_type": "display_data"
    }
   ],
   "source": [
    "# Now I will create the combined transformation first and then will apply the combined one on the x\n",
    "# let's see both are same or not\n",
    "shear_rotation = shear@rotation\n",
    "vectors = [shear_rotation.dot(x)]\n",
    "print(shear_rotation.dot(x))\n",
    "plot_vector(vectors)"
   ]
  },
  {
   "cell_type": "code",
   "execution_count": 35,
   "id": "93b514a2",
   "metadata": {},
   "outputs": [
    {
     "name": "stdout",
     "output_type": "stream",
     "text": [
      "[-3  2]\n"
     ]
    },
    {
     "data": {
      "image/png": "[encoded data removed]",
      "text/plain": [
       "<Figure size 200x200 with 1 Axes>"
      ]
     },
     "metadata": {},
     "output_type": "display_data"
    }
   ],
   "source": [
    "# let's check if shear(rotation(x)) is equal to rotation(shear(x))\n",
    "rotation_shear = rotation@shear\n",
    "vectors = [rotation_shear.dot(x)]\n",
    "print(rotation_shear.dot(x))\n",
    "plot_vector(vectors)"
   ]
  },
  {
   "cell_type": "markdown",
   "id": "8696071b",
   "metadata": {},
   "source": [
    "**Comment:** It is easy to notice that shear(rotation(x)) is not equal to rotation(shear(x)). Taht is because shear*rotation is not equal rotation*shear. Hence Matrix multiplication is not always commut"
   ]
  }
 ],
 "metadata": {
  "kernelspec": {
   "display_name": "Python 3 (ipykernel)",
   "language": "python",
   "name": "python3"
  },
  "language_info": {
   "codemirror_mode": {
    "name": "ipython",
    "version": 3
   },
   "file_extension": ".py",
   "mimetype": "text/x-python",
   "name": "python",
   "nbconvert_exporter": "python",
   "pygments_lexer": "ipython3",
   "version": "3.9.13"
  }
 },
 "nbformat": 4,
 "nbformat_minor": 5
}
